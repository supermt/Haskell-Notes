{
 "metadata": {
  "language": "haskell",
  "signature": "sha256:134620a14c11c2deb65e73e242ff865de3648b3fcaa3326b578edef57fa41da3"
 },
 "nbformat": 3,
 "nbformat_minor": 0,
 "worksheets": [
  {
   "cells": [
    {
     "cell_type": "markdown",
     "metadata": {
      "hidden": false
     },
     "source": [
      "\u8fd9\u662fReal world Haskell\u7684\u8bfb\u4e66\u7b14\u8bb0\uff0c\u5e0c\u671b\u80fd\u591f\u76d1\u7763\u6211\u5728\u540e\u671f\u597d\u597d\u5b66\u4e60\u4e00\u4e0bHaskell\u8fd9\u95e8\u8bed\u8a00"
     ]
    },
    {
     "cell_type": "code",
     "collapsed": false,
     "input": [],
     "language": "python",
     "metadata": {
      "hidden": false
     },
     "outputs": []
    }
   ],
   "metadata": {}
  }
 ]
}