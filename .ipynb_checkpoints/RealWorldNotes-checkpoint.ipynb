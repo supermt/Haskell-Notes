{
 "metadata": {
  "language": "haskell",
  "signature": "sha256:9cbb0e3369945e0899aec93bffda1d1f17d88da227a64c59073f3c9fbab4e232"
 },
 "nbformat": 3,
 "nbformat_minor": 0,
 "worksheets": [
  {
   "cells": [
    {
     "cell_type": "markdown",
     "metadata": {
      "hidden": false
     },
     "source": [
      "## \u8fd9\u662fReal world Haskell\u7684\u8bfb\u4e66\u7b14\u8bb0\uff0c\u5e0c\u671b\u80fd\u591f\u76d1\u7763\u6211\u5728\u540e\u671f\u597d\u597d\u5b66\u4e60\u4e00\u4e0bHaskell\u8fd9\u95e8\u8bed\u8a00"
     ]
    },
    {
     "cell_type": "code",
     "collapsed": false,
     "input": [
      "1 + (4*4) -- \u8fd9\u91cc\u662f\u7b2c\u4e00\u4e2a\u6d4b\u8bd5\u6570\u636e\uff0c\u770b\u770b\u73af\u5883\u662f\u4e0d\u662f\u914d\u5bf9\u4e86\n",
      "-- \u8fd9\u91cc\u7528\u4e0d\u4e86info\u8fd9\u4e2a\u51fd\u6570\uff0c\u770b\u8d77\u6765\u5e76\u4e0d\u662f\u6240\u6709\u51fd\u6570\u90fd\u80fd\u7528\uff1f\uff1f\n",
      "\n",
      "(+) 4 4 --\u5982\u679c\u8981\u6c42\u4f18\u5148\u8c03\u7528\u51fd\u6570+\uff0c\u5219\u4f1a\u5411\u540e\u4f18\u5148\u5bfb\u627e\u6ee1\u8db3\u5185\u5bb9\u7684\u53c2\u6570\n",
      "\n",
      "-- \u9700\u8981\u6ce8\u610f\u7684\u662f\uff0c-\u53f7\u4e5f\u662f\u4e00\u4e2a\u51fd\u6570(\u88ab\u91cd\u8f7d\u7684\u8fd0\u7b97\u7b26\uff1f\uff1f)\uff0c\u56e0\u6b64\u8981\u8868\u793a-3\uff0c\u4e00\u5b9a\u8981\u52a0\u4e0a\u62ec\u53f7\n",
      "\n",
      "-- 2 + -3\n",
      "\n",
      "2 + (-3)"
     ],
     "language": "python",
     "metadata": {},
     "outputs": [
      {
       "metadata": {},
       "output_type": "display_data",
       "text": [
        "17"
       ]
      },
      {
       "metadata": {},
       "output_type": "display_data",
       "text": [
        "8"
       ]
      },
      {
       "metadata": {},
       "output_type": "display_data",
       "text": [
        "-1"
       ]
      }
     ],
     "prompt_number": 3
    },
    {
     "cell_type": "code",
     "collapsed": false,
     "input": [
      "pi\n",
      "\n",
      "e"
     ],
     "language": "python",
     "metadata": {},
     "outputs": [
      {
       "metadata": {},
       "output_type": "display_data",
       "text": [
        "3.141592653589793"
       ]
      },
      {
       "html": [
        "<span class='err-msg'>Not in scope: \u2018e\u2019</span>"
       ],
       "metadata": {},
       "output_type": "display_data",
       "text": [
        "Not in scope: \u2018e\u2019"
       ]
      }
     ],
     "prompt_number": 1
    },
    {
     "cell_type": "code",
     "collapsed": false,
     "input": [
      "-- \u5728Haskell\u4e2d\u6ca1\u6709\u5b9a\u4e49\u5e38\u91cfe\uff0c\u800c\u662f\u5b9a\u4e49\u4e86\u51fd\u6570exp\n",
      "\n",
      "let e = exp 1\n",
      "\n",
      "print e\n",
      "\n",
      "e ** pi - pi\n",
      "\n",
      "(e ** pi) - pi"
     ],
     "language": "python",
     "metadata": {
      "format": "column"
     },
     "outputs": [
      {
       "metadata": {},
       "output_type": "display_data",
       "text": [
        "2.718281828459045"
       ]
      },
      {
       "metadata": {},
       "output_type": "display_data",
       "text": [
        "19.99909997918947"
       ]
      },
      {
       "metadata": {},
       "output_type": "display_data",
       "text": [
        "19.99909997918947"
       ]
      }
     ],
     "prompt_number": 12
    },
    {
     "cell_type": "markdown",
     "metadata": {
      "hidden": false
     },
     "source": [
      "## Haskell\u4e2d\u6700\u91cd\u8981\u7684\u6570\u636e\u7ed3\u6784\u2014\u2014\u2014\u2014List\u548cTuple\n",
      "\n",
      "\u5bf9\u4e8e\u4efb\u4f55\u4e00\u79cd\u51fd\u6570\u5f0f\u7f16\u7a0b\u8bed\u8a00\u800c\u8a00\uff0cList\u7ed3\u6784\u90fd\u662f\u975e\u5e38\u91cd\u8981\u7684\u3002\u5728Haskell\u4e2d\u4f7f\u7528[]\u8868\u793a\u65b9\u62ec\u53f7\u3002\n",
      "\n",
      "Haskell\u4e2d\u7684List\u5177\u6709\u5982\u4e0b\u64cd\u4f5c\uff1a\n"
     ]
    },
    {
     "cell_type": "code",
     "collapsed": false,
     "input": [
      "-- \u58f0\u660e\u64cd\u4f5c\uff1a[]\n",
      "\n",
      "[1,2,3,4,5] \n",
      "\n",
      "[1,2,5,7,10] -- \u76f4\u63a5\u5217\u4e3e\u7684list\n",
      "\n",
      "[1..10] --\u95f4\u9694\u4e3a1\u7684\u7b49\u5dee\u6570\u5217\n",
      "\n",
      "[1.5,1.75..4] -- \u6307\u5b9a\u95f4\u9694\u7684\u7b49\u5dee\u6570\u5217"
     ],
     "language": "python",
     "metadata": {},
     "outputs": [
      {
       "metadata": {},
       "output_type": "display_data",
       "text": [
        "[1,2,3,4,5]"
       ]
      },
      {
       "metadata": {},
       "output_type": "display_data",
       "text": [
        "[1,2,5,7,10]"
       ]
      },
      {
       "metadata": {},
       "output_type": "display_data",
       "text": [
        "[1,2,3,4,5,6,7,8,9,10]"
       ]
      },
      {
       "metadata": {},
       "output_type": "display_data",
       "text": [
        "[1.5,1.75,2.0,2.25,2.5,2.75,3.0,3.25,3.5,3.75,4.0]"
       ]
      }
     ],
     "prompt_number": 9
    },
    {
     "cell_type": "code",
     "collapsed": false,
     "input": [
      "-- \u5165\u961f\u64cd\u4f5c\uff1a:\n",
      "-- \u5165\u961f\u64cd\u4f5c\u4e3a\u82f1\u6587\u7684\u5355\u5f15\u53f7\uff0c\u5c06\u64cd\u4f5c\u7b26\u5de6\u4fa7\u5143\u7d20\u63d2\u5165\u5230\u53f3\u4fa7list\u4e2d\n",
      "\n",
      "1:[2,3]\n",
      "\n",
      "--[2,3]:[2..5] -- \u8fd9\u4e00\u884c\u7f16\u8bd1\u9519\u8bef\uff0c\u56e0\u4e3a\u5de6\u4fa7\u4e0d\u80fd\u662f\u961f\u5217\n",
      "\n",
      "--True : [2..5] --\u8fd9\u4e00\u884c\u4e5f\u662f\u9519\u8bef\u7684\uff0c\u56e0\u4e3alist\u4e0d\u652f\u6301\u591a\u7c7b\u578b\u6df7\u7528"
     ],
     "language": "python",
     "metadata": {
      "format": "row"
     },
     "outputs": [
      {
       "metadata": {},
       "output_type": "display_data",
       "text": [
        "[1,2,3]"
       ]
      }
     ],
     "prompt_number": 21
    },
    {
     "cell_type": "markdown",
     "metadata": {
      "hidden": false
     },
     "source": [
      "### \u51fd\u6570\u7f16\u7a0b\n",
      "\n",
      "\u6709\u4e86\u5165\u961f\u64cd\u4f5c\u4ee5\u540e\uff0c\u6211\u4eec\u5c31\u53ef\u4ee5\u5f00\u59cb\u4e86\u89e3\u4e00\u4e0bHaskell\u4e2d\u7684\u51fd\u6570\u601d\u60f3\u4e86\n",
      "\n",
      "\u9996\u5148\u9700\u8981\u660e\u786e\u4e00\u70b9\uff1a\u5728\u51fd\u6570\u5f0f\u7f16\u7a0b\u4e2d\uff0c\u4e00\u5207\u7686\u51fd\u6570\u3002\u5373\u4e00\u5207\u90fd\u53ef\u4ee5\u7531\u51fd\u6570\u7684\u94fe\u5f0f\u8c03\u7528\u5b8c\u6210\u3002\u90a3\u4e48\uff0c\u4e00\u4e2alist\u7684\u6784\u9020\u8fc7\u7a0b\uff08\u5982\uff1a[1,2,3]\uff09\u5b9e\u9645\u4e0a\u662f\u7531\u4e0b\u9762\u7684\u64cd\u4f5c\u6784\u6210\u7684"
     ]
    },
    {
     "cell_type": "code",
     "collapsed": false,
     "input": [
      "(:) 1 ((:) 2 ((:) 3 []))"
     ],
     "language": "python",
     "metadata": {
      "format": "column"
     },
     "outputs": [
      {
       "html": [
        " <div class=\"suggestion-name\" style=\"clear:both;\">Use list literal</div>  <div class=\"suggestion-row\" style=\"float: left;\"> <div class=\"suggestion-warning\">Found:</div>  <div class=\"highlight-code\" id=\"haskell\">(:) 1 ((:) 2 ((:) 3 []))</div> </div>  <div class=\"suggestion-row\" style=\"float: left;\"> <div class=\"suggestion-warning\">Why Not:</div>  <div class=\"highlight-code\" id=\"haskell\">[1, 2, 3]</div> </div> "
       ],
       "metadata": {},
       "output_type": "display_data",
       "text": [
        "Line 1: Use list literal\n",
        "Found:\n",
        "(:) 1 ((:) 2 ((:) 3 []))\n",
        "Why not:\n",
        "[1, 2, 3]"
       ]
      },
      {
       "metadata": {},
       "output_type": "display_data",
       "text": [
        "[1,2,3]"
       ]
      }
     ],
     "prompt_number": 8
    },
    {
     "cell_type": "markdown",
     "metadata": {
      "hidden": false
     },
     "source": [
      "\u53ef\u4ee5\u770b\u5230\u7f16\u8bd1\u5668\u5df2\u7ecf\u63d0\u793a\u4e86\uff0c\u4e0a\u8ff0\u4e00\u8fde\u4e32\u8868\u8fbe\u5f0f\u7684\u4fe1\u606f\u548c[1,2,3]\u662f\u4e00\u6837\u7684\u3002\n",
      "\n",
      "\u6211\u4eec\u4ece\u5934\u89e3\u8bfb\u4e00\u4e0b\u8fd9\u4e2a\u8bed\u53e5\uff0c\u9996\u5148\u662f\u4e00\u4e2a\u88ab\u62ec\u53f7\u62ec\u8d77\u7684:\uff0c\u8fd9\u8bf4\u660e\u4f18\u5148\u83b7\u53d6\u5176\u6240\u9700\u53c2\u6570\uff0c\u53731\u548c((:) 2 ((:) 3 []))\uff0c\u7ee7\u7eed\uff0c\u540e\u4e00\u4e2a\u53c2\u6570\u5229\u7528\u62ec\u53f7\u6574\u5408\u4e3a\u4e00\u4e2a\u53c2\u6570\uff08\u5b9e\u9645\u4e0a\u8fd8\u662f\u4e00\u4e2a\u51fd\u6570\uff09\uff0c\u9012\u5f52\u5730\u5206\u6790\uff0c\u6574\u4e2a\u6784\u9020\u8fc7\u7a0b\uff0c\u5373\u662f\u5c061\uff0c2\uff0c3\u6709\u5e8f\u5730\u538b\u5165list\u4e2d\u3002"
     ]
    },
    {
     "cell_type": "code",
     "collapsed": false,
     "input": [
      "-- \u76f8\u52a0\u64cd\u4f5c\uff1a++\n",
      "\n",
      "let a = [1..10]\n",
      "let b = [9..13]\n",
      "\n",
      "a ++ b --\u8fd9\u79cd\u64cd\u4f5c\u5e76\u4e0d\u4f1a\u6d88\u53bb\u91cd\u590d\u5143\u7d20\uff0c\u4ec5\u4ec5\u662f\u6700\u7b80\u5355\u7684\u5408\u5e76"
     ],
     "language": "python",
     "metadata": {
      "format": "row"
     },
     "outputs": [
      {
       "metadata": {},
       "output_type": "display_data",
       "text": [
        "[1,2,3,4,5,6,7,8,9,10,9,10,11,12,13]"
       ]
      }
     ],
     "prompt_number": 10
    },
    {
     "cell_type": "code",
     "collapsed": false,
     "input": [
      "-- \u9009\u62e9\u64cd\u4f5c\uff1a!!\n",
      "\n",
      "[1..5] !! 2 -- \u9009\u53d6\u7b2cn\u4e2a\u6570\u636e"
     ],
     "language": "python",
     "metadata": {
      "format": "column"
     },
     "outputs": [
      {
       "metadata": {},
       "output_type": "display_data",
       "text": [
        "3"
       ]
      }
     ],
     "prompt_number": 7
    },
    {
     "cell_type": "markdown",
     "metadata": {
      "hidden": false
     },
     "source": [
      "### \u63a5\u4e0b\u6765\u4ecb\u7ecd\u4e00\u4e9b\u5f88\u6709\u7528\u7684\u64cd\u4f5c\n",
      "\n",
      "![\u64cd\u4f5c\u7b80\u56fe](http://shuklan.com/haskell/L02_files/listmonster.png)"
     ]
    },
    {
     "cell_type": "code",
     "collapsed": false,
     "input": [
      "tail [1..10]\n",
      "head [1..]\n",
      "init [1..10]\n",
      "last [1..10]\n"
     ],
     "language": "python",
     "metadata": {},
     "outputs": [
      {
       "metadata": {},
       "output_type": "display_data",
       "text": [
        "[2,3,4,5,6,7,8,9,10]"
       ]
      },
      {
       "metadata": {},
       "output_type": "display_data",
       "text": [
        "1"
       ]
      },
      {
       "metadata": {},
       "output_type": "display_data",
       "text": [
        "[1,2,3,4,5,6,7,8,9]"
       ]
      },
      {
       "metadata": {},
       "output_type": "display_data",
       "text": [
        "10"
       ]
      }
     ],
     "prompt_number": 9
    },
    {
     "cell_type": "markdown",
     "metadata": {
      "hidden": false
     },
     "source": [
      "### Haskell\u7684\u60f0\u6027\u8fd0\u7b97\u7279\u70b9\n",
      "\n",
      "Haskell\u7684\u4e3b\u8981\u7279\u70b9\u662f\u60f0\u6027\u8fd0\u7b97\uff0c\u8fd9\u4f7f\u5f97\u8be5\u8bed\u8a00\u7684\u65e0\u9650\u53ef\u4ee5\u88ab\u5b9e\u73b0\uff0c\u6bd4\u5982\u4e0a\u9762\u7684take 10 [1..]\uff0c\u8fd9\u4e00\u53e5\u4e2d\u7684[1..]\u4ee3\u8868\u4e86\u4e00\u4e2a\u65e0\u9650\u6570\u7ec4\uff0c\u5728\u5404\u79cd\u547d\u4ee4\u5f0f\u8bed\u8a00\u4e2d\uff0c\u65e0\u9650\u6570\u7ec4\u4f1a\u5bfc\u81f4\u7a0b\u5e8f\u5361\u6b7b\uff0c\u56e0\u4e3a\u7f16\u8bd1\u5668\u548c\u64cd\u4f5c\u7cfb\u7edf\u5fc5\u987b\u5148\u4fdd\u8bc1\u8fd9\u4e2a\u65e0\u9650\u6570\u7ec4\u7684\u521d\u59cb\u5316\uff0c\u624d\u80fd\u8fdb\u884c\u4e0b\u4e00\u4e2a\u64cd\u4f5c\u3002\u800c\u60f0\u6027\u4f53\u73b0\u5728\u4e0d\u5728\u6700\u540e\u65f6\u523b\u7edd\u4e0d\u8fd0\u7b97\uff0c\u4e5f\u5c31\u4f7f\u5f97Haskell\u53ef\u4ee5\u8fd0\u7b97\u65e0\u9650\u6570\u7ec4\u3002"
     ]
    },
    {
     "cell_type": "code",
     "collapsed": false,
     "input": [
      "let unlimit = [1..]\n",
      "\n",
      "take 10 [1..] -- \u622a\u53d6\u524dn\u4e2a\u6570\u636e\n"
     ],
     "language": "python",
     "metadata": {
      "format": "column"
     },
     "outputs": [
      {
       "metadata": {},
       "output_type": "display_data",
       "text": [
        "[1,2,3,4,5,6,7,8,9,10]"
       ]
      }
     ],
     "prompt_number": 11
    },
    {
     "cell_type": "code",
     "collapsed": false,
     "input": [
      "let limit = [1..10]\n",
      "\n",
      "drop 3 limit\n",
      "\n",
      "length limit\n",
      "\n",
      "sum limit\n",
      "\n",
      "--Haskell\u5177\u6709\u8d4b\u503c\u786e\u5b9a\u6027\uff0c\u4e00\u4e2a\u53d8\u91cf\u4e00\u65e6\u88ab\u8d4b\u503c\u5c06\u65e0\u6cd5\u518d\u505a\u6539\u53d8\n",
      "\n",
      "length (drop 3 limit)\n",
      "--\u8fd9\u91cc\u5fc5\u987b\u8981\u7528\u62ec\u53f7\u4fdd\u8bc1\u540e\u9762\u7684\u8868\u8fbe\u5f0f\u53ef\u4ee5\u4f5c\u4e3a\u4e00\u4e2a\u53c2\u6570\u4f20\u5165\uff0c\u4e0d\u7136\u4f1a\u51fa\u73b0\u7f16\u8bd1\u9519\u8bef\n"
     ],
     "language": "python",
     "metadata": {
      "format": "row"
     },
     "outputs": [
      {
       "metadata": {},
       "output_type": "display_data",
       "text": [
        "[4,5,6,7,8,9,10]"
       ]
      },
      {
       "metadata": {},
       "output_type": "display_data",
       "text": [
        "10"
       ]
      },
      {
       "metadata": {},
       "output_type": "display_data",
       "text": [
        "55"
       ]
      },
      {
       "metadata": {},
       "output_type": "display_data",
       "text": [
        "7"
       ]
      }
     ],
     "prompt_number": 1
    },
    {
     "cell_type": "markdown",
     "metadata": {
      "hidden": false
     },
     "source": [
      "#### Haskell \u63d0\u4f9b\u4e86\u4e00\u79cd\u96c6\u5408\u8868\u793alist\u65b9\u6cd5\n",
      "\n",
      "\u5bf9\u4e8e\u53ef\u4ee5\u4ee5\u2200x\u2208S, p(x)\u65b9\u5f0f\u5b9a\u4e49\u7684\u96c6\u5408\n",
      "\n",
      "Haskell \u63d0\u4f9b\u4e86\u7c7b\u4f3c\u7684\u8868\u8fbe\u5f0f\n",
      "[ x | x \u2190 S, p x ]\n",
      "\n",
      "\u5176\u4e2dp(x)\u5f97\u5230\u7684\u662f\u4e00\u4e2a\u96c6\u5408\uff0c\u53ef\u4ee5\u7531\u8fd0\u7b97\u5f0f\u3001\u4ee3\u7801\u6bb5\u3001\u5e03\u5c14\u8868\u8fbe\u5f0f\u751f\u6210"
     ]
    },
    {
     "cell_type": "code",
     "collapsed": false,
     "input": [
      "[ x+5 | x <- [1,2,3] ] -- \u5728\u8fd9\u4e2a\u7f16\u8f91\u73af\u5883\u4e2d\uff0c\u4f1a\u7531<-\u8f6c\u6362\u6210\u2190\n",
      "\n",
      "[x | x<-[1..10],10 `mod` x  == 0]\n",
      "\n",
      "[a+b | a<-[1..2],b<-[1..3]] -- 1+1 1+2 1+3; 2+1 2+2 2+3;\n",
      "\n",
      "[a+b+c | a<-[1..2],b<-[1..3],c<-[1..4]] --\u5e76\u4e0d\u4ec5\u9650\u4e8e\u4e24\u4e2a\u6761\u4ef6\n",
      "\n",
      "[(a,b,c) | c<-[1..10], b<-[1..c], a<-[1..b], a^2 + b^2 == c^2] --\u52fe\u80a1\u6570\u6c42\u89e3"
     ],
     "language": "python",
     "metadata": {},
     "outputs": [
      {
       "metadata": {},
       "output_type": "display_data",
       "text": [
        "[6,7,8]"
       ]
      },
      {
       "metadata": {},
       "output_type": "display_data",
       "text": [
        "[1,2,5,10]"
       ]
      },
      {
       "metadata": {},
       "output_type": "display_data",
       "text": [
        "[2,3,4,3,4,5]"
       ]
      },
      {
       "metadata": {},
       "output_type": "display_data",
       "text": [
        "[3,4,5,6,4,5,6,7,5,6,7,8,4,5,6,7,5,6,7,8,6,7,8,9]"
       ]
      },
      {
       "metadata": {},
       "output_type": "display_data",
       "text": [
        "[(3,4,5),(6,8,10)]"
       ]
      }
     ],
     "prompt_number": 16
    },
    {
     "cell_type": "markdown",
     "metadata": {
      "hidden": false
     },
     "source": [
      "#### Tuple\u5143\u7ec4\n",
      "\n",
      "\u5143\u7ec4\u4f7f\u7528()\u8868\u793a\uff0c\u7528\u9017\u53f7\u5206\u5272\u5404\u4e2a\u5143\u7d20\uff0c\u5f53\u5176\u4e2d\u5143\u7d20\u4e3a\u7a7a\u65f6\uff0c\u5373\u53ef\u8868\u793aC\u8bed\u8a00\u4e2d\u7684void\uff0c\u8fd9\u6837\u4e5f\u5c31\u53ef\u4ee5\u7406\u89e3\u4e3a\u4ec0\u4e48\u5c06\u8868\u8fbe\u5f0f\u7528()\u5305\u542b\u4e4b\u540e\u53ef\u4ee5\u83b7\u53d6\u6709\u9650\u8ba1\u7b97\u6743\u4e86\u3002\u5b9e\u9645\u4e0a\u5e76\u4e0d\u662f\u5c06\u8fd0\u7b97\u63d0\u524d\uff0c\u800c\u662f\u5c06\u8868\u793a\u5f0f\u4f5c\u4e3a\u4e00\u4e2a\u53ea\u6709\u4e00\u4e2a\u6570\u636e\u7684\u5143\u7ec4"
     ]
    },
    {
     "cell_type": "code",
     "collapsed": false,
     "input": [
      "(1) -- \u5728\u63d0\u793a\u4e2d\u4e5f\u8868\u793a\u4e86\u8fd9\u4e2a\u4e0e\u76f4\u63a5\u5b9a\u4e491\u662f\u7b49\u7ea7\u7684\n",
      "(1,\"2333\") -- \u5143\u7ec4\u652f\u6301\u6570\u636e\u7c7b\u578b\u6df7\u5408\n",
      "(1,[1,2,3],[]) :: (Int,[Int],[Int]) --\u8fd8\u662f\u86ee\u4e27\u5fc3\u75c5\u72c2\u7684"
     ],
     "language": "python",
     "metadata": {},
     "outputs": [
      {
       "html": [
        " <div class=\"suggestion-name\" style=\"clear:both;\">Redundant bracket</div>  <div class=\"suggestion-row\" style=\"float: left;\"> <div class=\"suggestion-warning\">Found:</div>  <div class=\"highlight-code\" id=\"haskell\">(1)</div> </div>  <div class=\"suggestion-row\" style=\"float: left;\"> <div class=\"suggestion-warning\">Why Not:</div>  <div class=\"highlight-code\" id=\"haskell\">1</div> </div> "
       ],
       "metadata": {},
       "output_type": "display_data",
       "text": [
        "Line 1: Redundant bracket\n",
        "Found:\n",
        "(1)\n",
        "Why not:\n",
        "1"
       ]
      },
      {
       "metadata": {},
       "output_type": "display_data",
       "text": [
        "1"
       ]
      },
      {
       "metadata": {},
       "output_type": "display_data",
       "text": [
        "(1,\"2333\")"
       ]
      },
      {
       "metadata": {},
       "output_type": "display_data",
       "text": [
        "(1,[1,2,3],[])"
       ]
      }
     ],
     "prompt_number": 8
    },
    {
     "cell_type": "code",
     "collapsed": false,
     "input": [
      "-- \u5143\u7ec4\u4e2d\u5e38\u7528\u7684\u4e00\u4e9b\u8fd0\u7b97\n",
      "\n",
      "fst (1,'a')\n",
      "snd (1,'a')"
     ],
     "language": "python",
     "metadata": {},
     "outputs": [
      {
       "metadata": {},
       "output_type": "display_data",
       "text": [
        "1"
       ]
      },
      {
       "metadata": {},
       "output_type": "display_data",
       "text": [
        "'a'"
       ]
      }
     ],
     "prompt_number": 9
    },
    {
     "cell_type": "markdown",
     "metadata": {
      "hidden": false
     },
     "source": [
      "### \u7c7b\u578b\u4e0e\u51fd\u6570\n",
      "\n",
      "- Haskell\u662f\u4e00\u79cd\u5f3a\u7c7b\u578b\u7684\u8bed\u8a00\n",
      "- Haskell\u4e2d\u7684\u9759\u6001\u7c7b\u578b\u4e0e\u52a8\u6001\u7c7b\u578b"
     ]
    },
    {
     "cell_type": "code",
     "collapsed": false,
     "input": [
      "-- ghci\u4e2d\u4f7f\u7528:type\u6307\u4ee4\u53ef\u4ee5\u67e5\u770b\u4e00\u4e2a\u6570\u636e\u7684\u7c7b\u578b\n",
      "\n",
      ":type 1\n",
      ":type \"hello type\"\n",
      ":type True"
     ],
     "language": "python",
     "metadata": {},
     "outputs": [
      {
       "html": [
        "<span class='get-type'>1 :: forall a. Num a => a</span>"
       ],
       "metadata": {},
       "output_type": "display_data",
       "text": [
        "1 :: forall a. Num a => a"
       ]
      },
      {
       "html": [
        "<span class='get-type'>\"hello type\" :: [Char]</span>"
       ],
       "metadata": {},
       "output_type": "display_data",
       "text": [
        "\"hello type\" :: [Char]"
       ]
      },
      {
       "html": [
        "<span class='get-type'>True :: Bool</span>"
       ],
       "metadata": {},
       "output_type": "display_data",
       "text": [
        "True :: Bool"
       ]
      }
     ],
     "prompt_number": 31
    },
    {
     "cell_type": "markdown",
     "metadata": {
      "hidden": false
     },
     "source": [
      "\u4e0a\u8ff0\u7c7b\u578b\u79f0\u4e3a\u9759\u6001\u7c7b\u578b\uff0c\u5e38\u89c1\u7684\u9759\u6001\u7c7b\u578b\u6709\uff1a\n",
      "- Char\uff1a\u4e00\u4e2a__Unicode__\u5b57\u7b26\n",
      "- Bool\n",
      "- Int\uff1a\u5b9a\u957f\u6570\u5b57\uff08\u6839\u636e\u673a\u5668\u4f4d\u6570\u51b3\u5b9a\uff09\n",
      "- Integer\uff1a\u4e0d\u5b9a\u957f\u6570\u5b57\uff0c\u4e0d\u4f1a\u51fa\u73b0\u6ea2\u51fa\uff0c\u4f46\u662f\u6027\u80fd\u548c\u7a7a\u95f4\u5f00\u9500\u5747\u8981\u5927\u4e8eInt\n",
      "- Double\uff1a\u6bd4Float\u66f4\u5e38\u7528\n",
      "\n",
      "##### \u5f3a\u5236\u58f0\u660e\n",
      "\n",
      "\u5728Haskell\u4e2d\u4f7f\u7528::\u4f5c\u4e3a\u7c7b\u578b\u6807\u7b7e\uff0c\u5728\u7ed3\u679c\u4e2d\u8868\u793a\u6570\u636e\u7c7b\u578b\uff0c\u5728\u7a0b\u5e8f\u4e2d\u8868\u793a\u7ea6\u675f\u67d0\u4e00\u8868\u8fbe\u5f0f\u5fc5\u987b\u662f\u67d0\u4e00\u7c7b\u578b\uff0c\u5426\u5219\u7f16\u8bd1\u62a5\u9519"
     ]
    },
    {
     "cell_type": "code",
     "collapsed": false,
     "input": [
      "'a' :: Char\n",
      "\n",
      "compare 2 3 == LT  :: Bool\n",
      "\n",
      "[1,2,3] :: [Int] --[]\u7b26\u53f7\u62ec\u8d77\u6765\u518d\u52a0\u4e0a\u7c7b\u578b\uff0c\u8868\u793a\u8fd9\u4e00\u7c7b\u578b\u7684\u6570\u7ec4\n",
      "\n",
      "[1,2,3] :: Int --\u7f16\u8bd1\u62a5\u9519"
     ],
     "language": "python",
     "metadata": {},
     "outputs": [
      {
       "html": [
        " <div class=\"suggestion-name\" style=\"clear:both;\">Use <</div>  <div class=\"suggestion-row\" style=\"float: left;\"> <div class=\"suggestion-error\">Found:</div>  <div class=\"highlight-code\" id=\"haskell\">compare 2 3 == LT</div> </div>  <div class=\"suggestion-row\" style=\"float: left;\"> <div class=\"suggestion-error\">Why Not:</div>  <div class=\"highlight-code\" id=\"haskell\">(2 < 3)</div> </div> "
       ],
       "metadata": {},
       "output_type": "display_data",
       "text": [
        "Line 1: Use <\n",
        "Found:\n",
        "compare 2 3 == LT\n",
        "Why not:\n",
        "(2 < 3)"
       ]
      },
      {
       "metadata": {},
       "output_type": "display_data",
       "text": [
        "'a'"
       ]
      },
      {
       "metadata": {},
       "output_type": "display_data",
       "text": [
        "True"
       ]
      },
      {
       "metadata": {},
       "output_type": "display_data",
       "text": [
        "[1,2,3]"
       ]
      },
      {
       "html": [
        "<span class='err-msg'>Couldn't match expected type \u2018Int\u2019 with actual type \u2018[t0]\u2019<br/>In the expression: [1, 2, 3] :: Int<br/>In an equation for \u2018it\u2019: it = [1, 2, 3] :: Int</span>"
       ],
       "metadata": {},
       "output_type": "display_data",
       "text": [
        "Couldn't match expected type \u2018Int\u2019 with actual type \u2018[t0]\u2019\n",
        "In the expression: [1, 2, 3] :: Int\n",
        "In an equation for \u2018it\u2019: it = [1, 2, 3] :: Int"
       ]
      }
     ],
     "prompt_number": 5
    },
    {
     "cell_type": "code",
     "collapsed": false,
     "input": [
      "-- \u8fd8\u8bb0\u5f97Haskell\u662f\u7eaf\u51fd\u6570\u5f0f\u7f16\u7a0b\u4e48\n",
      "\n",
      ":type head\n",
      ":type (+)\n",
      "\n",
      "-- \u6ca1\u9519\uff0c\u51fd\u6570\u4e5f\u6709\u7c7b\u578b\n"
     ],
     "language": "python",
     "metadata": {},
     "outputs": [
      {
       "html": [
        "<span class='get-type'>head :: forall a. [a] -> a</span>"
       ],
       "metadata": {},
       "output_type": "display_data",
       "text": [
        "head :: forall a. [a] -> a"
       ]
      },
      {
       "html": [
        "<span class='get-type'>(+) :: forall a. Num a => a -> a -> a</span>"
       ],
       "metadata": {},
       "output_type": "display_data",
       "text": [
        "(+) :: forall a. Num a => a -> a -> a"
       ]
      }
     ],
     "prompt_number": 19
    },
    {
     "cell_type": "markdown",
     "metadata": {
      "hidden": false
     },
     "source": [
      "\u5728Haskell\u4e2d\uff0c\u7c7b\u578b\u7684\u5b9a\u4e49\u4e0d\u4ec5\u4ec5\u9650\u5236\u5728\u67d0\u4e00\u4e2a\u6570\u636e\u7c7b\u578b\u4e0a\uff0c\u56e0\u4e3a\u51fd\u6570\u672c\u8eab\u5c31\u662f\u4e00\u79cd\u53d8\u91cf\uff08\u51fd\u6570\u5f0f\u7f16\u7a0b\uff09\uff0c\u53d8\u91cf\u5c31\u5e94\u5f53\u5177\u6709\u7c7b\u578b\uff0c\u6240\u4ee5Haskell\u7684\u7c7b\u578b\u5305\u62ec\u53d8\u5316\u7684\u7c7b\u578b\u3002\u51fd\u6570\u7684\u7c7b\u578b\u4e5f\u5c31\u51b3\u5b9a\u4e86\u8fd9\u4e2a\u51fd\u6570\u53ef\u7528\u7684\u53c2\u6570\u7c7b\u578b\n",
      "\n",
      "\u6709\u7c7b\u578b\u9650\u5b9a\u7684Haskell\uff0c\u53ea\u8981\u7c7b\u578b\u4e0d\u5339\u914d\u5c31\u65e0\u6cd5\u9002\u914d\n",
      "\n",
      "![Haskell](http://shuklan.com/haskell/L03_files/zoidberg1.png)\n",
      "\n",
      "\u6ca1\u6709\u7c7b\u578b\u9650\u5b9a\u7684Python\uff0c\u5bb9\u6613\u51fa\u73b0\u7531\u4e8e\u4f20\u53c2\u9519\u8bef\u5bfc\u81f4\u7684\u7a0b\u5e8fBug\n",
      "\n",
      "![Python](http://shuklan.com/haskell/L03_files/zoidberg2.png)\n",
      "\n",
      "\n",
      "\n"
     ]
    },
    {
     "cell_type": "code",
     "collapsed": false,
     "input": [
      ":load /Users/MT/Documents/Haskell/add.hs \n",
      "    -- \u8fd9\u6761\u6307\u4ee4\u53ef\u4ee5\u7528\u6765\u52a0\u8f7d\u6587\u4ef6\u4e2d\u7684\u5185\u5bb9"
     ],
     "language": "python",
     "metadata": {},
     "outputs": [
      {
       "html": [
        "<span class='err-msg'>Module parsing failed.</span>"
       ],
       "metadata": {},
       "output_type": "display_data",
       "text": [
        "Module parsing failed."
       ]
      }
     ],
     "prompt_number": 18
    },
    {
     "cell_type": "code",
     "collapsed": false,
     "input": [
      "-- Haskell\u4e2d\u51fd\u6570\u7684\u5b9a\u4e49\u5f62\u5f0f\u5982\u4e0b\n",
      "\n",
      "myDrop n xs = if n<=0 || null xs then xs else myDrop(n-1)(tail xs) \n",
      "--\u81ea\u5b9a\u4e49\u51fd\u6570myDrop\uff0c\u5b9e\u73b0\u4e86Drop\u529f\u80fd\n",
      "-- \u51fd\u6570\u540d \u53c2\u6570\u5217\u8868 = \u5904\u7406\u6d41\u7a0b\n",
      "\n",
      "foldedDrop n xs = \n",
      "    if  (n<=0) || null xs\n",
      "        then xs\n",
      "    else myDrop(n-1)(tail xs)\n",
      "-- Haskell\u548cPython\u4e00\u6837\uff0c\u5229\u7528\u7f29\u8fdb\u8fdb\u884c\u6269\u5c55\n",
      "myDrop 10 [1..100]\n",
      "\n",
      "foldedDrop 10 [1..100]"
     ],
     "language": "python",
     "metadata": {
      "hidden": false
     },
     "outputs": [
      {
       "metadata": {},
       "output_type": "display_data",
       "text": [
        "[11,12,13,14,15,16,17,18,19,20,21,22,23,24,25,26,27,28,29,30,31,32,33,34,35,36,37,38,39,40,41,42,43,44,45,46,47,48,49,50,51,52,53,54,55,56,57,58,59,60,61,62,63,64,65,66,67,68,69,70,71,72,73,74,75,76,77,78,79,80,81,82,83,84,85,86,87,88,89,90,91,92,93,94,95,96,97,98,99,100]"
       ]
      },
      {
       "metadata": {},
       "output_type": "display_data",
       "text": [
        "[11,12,13,14,15,16,17,18,19,20,21,22,23,24,25,26,27,28,29,30,31,32,33,34,35,36,37,38,39,40,41,42,43,44,45,46,47,48,49,50,51,52,53,54,55,56,57,58,59,60,61,62,63,64,65,66,67,68,69,70,71,72,73,74,75,76,77,78,79,80,81,82,83,84,85,86,87,88,89,90,91,92,93,94,95,96,97,98,99,100]"
       ]
      }
     ],
     "prompt_number": 1
    },
    {
     "cell_type": "markdown",
     "metadata": {
      "hidden": false
     },
     "source": [
      "#### \u591a\u6001\n",
      "\n",
      "\u51fd\u6570\u5f0f\u7f16\u7a0b\u7684\u7279\u70b9\u5728\u4e8e\u6ce8\u610f\u6d41\u7a0b\u800c\u975e\u64cd\u4f5c\u7684\u7c7b\u578b\uff0c\u6240\u4ee5\u6709\u4e00\u79cd\u7279\u6b8a\u7684\u7c7b\u578b\uff0c\u5141\u8bb8\u53ef\u53d8\u7c7b\u578b\u3002"
     ]
    },
    {
     "cell_type": "code",
     "collapsed": false,
     "input": [
      ":type last\n",
      "-- \u8fd9\u4e2a\u51fd\u6570\u7684\u5165\u53e3\u53c2\u6570\u4e3a\u4e00\u4e2a\u5217\u8868\uff0c\u5176\u4e2d\u6240\u6709\u5143\u7d20\u90fd\u662f\u67d0\u79cd\u7c7b\u578ba\u7684\uff0c\u8fd4\u56de\u7684\u503c\u4e3a\u4e00\u4e2aa\u7c7b\u578b\u7684\u503c"
     ],
     "language": "python",
     "metadata": {
      "hidden": false
     },
     "outputs": [
      {
       "html": [
        "<span class='get-type'>last :: forall a. [a] -> a</span>"
       ],
       "metadata": {},
       "output_type": "display_data",
       "text": [
        "last :: forall a. [a] -> a"
       ]
      }
     ],
     "prompt_number": 3
    },
    {
     "cell_type": "markdown",
     "metadata": {
      "hidden": false
     },
     "source": [
      "\u5f53\u4e00\u4e2a\u51fd\u6570\u6709\u53ef\u53d8\u53c2\u6570\u65f6\uff0c\u8868\u793a\u8fd9\u4e2a\u53c2\u6570\u53ef\u4ee5\u63a5\u53d7\u4efb\u4f55\u7c7b\u578b\u7684\u8868\u8fbe\u5f0f\uff0c\u8bf4\u660e\u6b64\u51fd\u6570\u5177\u6709\u591a\u6001\u6027\uff0c\u79f0\u4e3a\u53c2\u91cf\u591a\u6001\uff0c\u8fd9\u79cd\u591a\u6001\u88ab\u5176\u4ed6\u591a\u79cd\u8bed\u8a00\u501f\u9274\uff0c\u5982Java\u548cC#\u4e2d\u7684\u6cdb\u578b\u3002"
     ]
    },
    {
     "cell_type": "code",
     "collapsed": false,
     "input": [
      ":type fst\n",
      ":type init"
     ],
     "language": "python",
     "metadata": {
      "hidden": false
     },
     "outputs": [
      {
       "html": [
        "<span class='get-type'>fst :: forall a b. (a, b) -> a</span>"
       ],
       "metadata": {},
       "output_type": "display_data",
       "text": [
        "fst :: forall a b. (a, b) -> a"
       ]
      },
      {
       "html": [
        "<span class='get-type'>init :: forall a. [a] -> [a]</span>"
       ],
       "metadata": {},
       "output_type": "display_data",
       "text": [
        "init :: forall a. [a] -> [a]"
       ]
      }
     ],
     "prompt_number": 4
    },
    {
     "cell_type": "code",
     "collapsed": false,
     "input": [
      "lastButOne items = last (init items)\n",
      "\n",
      "lastButOne [1..10]"
     ],
     "language": "python",
     "metadata": {
      "hidden": false
     },
     "outputs": [
      {
       "metadata": {},
       "output_type": "display_data",
       "text": [
        "9"
       ]
      }
     ],
     "prompt_number": 12
    },
    {
     "cell_type": "markdown",
     "metadata": {
      "hidden": false
     },
     "source": [
      "## \u7c7b\u578b\u5b9a\u4e49\uff0c\u6d41\u7a0b\u63a7\u5236"
     ]
    },
    {
     "cell_type": "code",
     "collapsed": false,
     "input": [
      "data BookInfo = Book Int String [String] deriving (Show)\n",
      "-- data\u5173\u952e\u5b57\u8868\u793a\u58f0\u660e\u4e00\u4e2a\u6570\u636e\u7c7b\u578b\u800c\u4e0d\u662f\u4e00\u4e2a\u51fd\u6570\uff0c\u800cBookInfo\u5219\u79f0\u4e3a\u7c7b\u578b\u6784\u9020\u5668(\u5176\u5b9e\u5c31\n",
      "-- \u662f\u7c7b\u578b\u540d\uff0c\u6839\u636e\u89c4\u8303\u5e94\u8be5\u5927\u5199\u7b2c\u4e00\u4e2a\u9996\u5b57\u6bcd)\n",
      "\n",
      "let newBook = Book 1 \"Real World Haskell\" []\n",
      "\n",
      "-- Book\u79f0\u4e3a\u503c\u6784\u9020\u5668\u6216\u8005\u6570\u636e\u6784\u9020\u5668\uff0c\u53ef\u4ee5\u7528\u6765\u521b\u5efa\u4e00\u4e2aBookInfo\u7c7b\u578b\u7684\u6570\u636e\uff0c\u548c\u9762\u5411\u5bf9\u8c61\n",
      "-- \u4e2d\u7684\u6784\u9020\u65b9\u6cd5\u662f\u4e00\u6837\u7684\n",
      "\n",
      "-- deriving (Show)\u7c7b\u4f3c\u4e8e\u5b9e\u73b0printable\u63a5\u53e3\uff0c\u4f7f\u7f16\u8bd1\u5668\u80fd\u591f\u81ea\u52a8\u8bc6\u522b\u5e76\u6253\u5370\u8be5\u7c7b\n",
      "print newBook"
     ],
     "language": "python",
     "metadata": {
      "hidden": false
     },
     "outputs": [
      {
       "metadata": {},
       "output_type": "display_data",
       "text": [
        "Book 1 \"Real World Haskell\" []"
       ]
      }
     ],
     "prompt_number": 17
    },
    {
     "cell_type": "markdown",
     "metadata": {
      "hidden": false
     },
     "source": [
      "\u5728Haskell\u4e2d\uff0c\u53d8\u91cf\u7684\u547d\u540d\u548c\u53d8\u91cf\u7c7b\u578b\u7684\u547d\u540d\u662f\u5206\u79bb\u7684\u3002\u6211\u4eec\u53ea\u5728\u7c7b\u578b\u5b9a\u4e49\uff08data\uff09\u6216\u7c7b\u578b\u6807\u7b7e\uff08::\uff09\u4e2d\u4f7f\u7528\u7c7b\u578b\u540d\uff0c\u5728\u5b9e\u9645\u4ee3\u7801\u4e2d\uff0c\u6211\u4eec\u53ea\u4f7f\u7528\u6570\u636e\u6784\u9020\u5668\u3002\u56e0\u4e3a\u4f7f\u7528\u5730\u548c\u4f7f\u7528\u540d\u4e0d\u540c\uff0c\u53ef\u4ee5\u5927\u5e45\u51cf\u5c11\u6df7\u7528\u7684\u60c5\u51b5\u3002"
     ]
    },
    {
     "cell_type": "code",
     "collapsed": false,
     "input": [
      "type BookAuthor = [String]\n",
      "type BookID = Int\n",
      "type BookName = String\n",
      "\n",
      "-- type\u53ef\u4ee5\u7528\u4e8e\u7ed9\u6570\u636e\u7c7b\u578b\u53d6\u522b\u540d\uff0c\u7c7b\u4f3ctypedef\n",
      "\n",
      "data BookInfo = BookFactory BookID BookName BookAuthor deriving (Show)\n",
      "\n",
      "let newBook = BookFactory 1 \"Programming in Dota2\" [\"Supermt\",\"Slark\"]\n",
      "\n",
      "print newBook"
     ],
     "language": "python",
     "metadata": {
      "hidden": false
     },
     "outputs": [
      {
       "metadata": {},
       "output_type": "display_data",
       "text": [
        "BookFactory 1 \"Programming in Dota2\" [\"Supermt\",\"Slark\"]"
       ]
      }
     ],
     "prompt_number": 28
    },
    {
     "cell_type": "code",
     "collapsed": false,
     "input": [
      "data MyBoolean = TRUE|FALSE --\u8fd9\u79cd\u5177\u6709\u591a\u4e2a\u6784\u9020\u503c\u7684\u7c7b\u578b\u88ab\u79f0\u4e3a\u4ee3\u6570\u6570\u636e\u7c7b\u578b\n",
      "\n",
      "-- C\u8bed\u8a00\u4e2d\u7684Enum\u7c7b\u578b\u53ef\u4ee5\u7528\u8fd9\u79cd\u5f62\u5f0f\u63cf\u8ff0\n",
      "-- Enum color {\n",
      "-- red,orange,yellow,green,\n",
      "--};\n",
      "\n",
      "-- Haskell\u4e2d\u7684\u679a\u4e3e\n",
      "\n",
      "data OptionColor = Red | Orange | Yellow deriving (Eq,Show) --\u9700\u8981\u6ce8\u610f\uff0cHaskell\u4e2d\u7684\u679a\u4e3e\u6ca1\u6709\u503c\n",
      "\n",
      ":type Red\n",
      "\n",
      "type CustomerID = Int\n",
      "type CardHolder = String\n",
      "type CardNumber = String\n",
      "type Address = [String]\n",
      "\n",
      "data BillingInfo = CreditCard CardNumber CardHolder Address\n",
      "                 | CashOnDelivery\n",
      "                 | Invoice CustomerID\n",
      "                 deriving (Show)\n",
      "\n",
      "let way1 = CreditCard \"This is my Credit Card ID\" \"This is my name\" [\"SiChuan\",\"Chengdu\"]\n",
      "\n",
      "print way1\n",
      "\n",
      "Invoice"
     ],
     "language": "python",
     "metadata": {
      "hidden": false
     },
     "outputs": [
      {
       "html": [
        "<span class='get-type'>Red :: OptionColor</span>"
       ],
       "metadata": {},
       "output_type": "display_data",
       "text": [
        "Red :: OptionColor"
       ]
      },
      {
       "metadata": {},
       "output_type": "display_data",
       "text": [
        "CreditCard \"This is my Credit Card ID\" \"This is my name\" [\"SiChuan\",\"Chengdu\"]"
       ]
      },
      {
       "html": [
        "<span class='err-msg'>No instance for (Show (CustomerID -> BillingInfo)) arising from a use of \u2018print\u2019<br/>In a stmt of an interactive GHCi command: print it</span>"
       ],
       "metadata": {},
       "output_type": "display_data",
       "text": [
        "No instance for (Show (CustomerID -> BillingInfo)) arising from a use of \u2018print\u2019\n",
        "In a stmt of an interactive GHCi command: print it"
       ]
      }
     ],
     "prompt_number": 68
    },
    {
     "cell_type": "markdown",
     "metadata": {
      "hidden": false
     },
     "source": [
      "\u5728Haskell\u4e2d\u5e38\u51fa\u73b0No instance\u9519\u8bef\uff0c\u6307\u7684\u662f\u672a\u63d0\u4f9b\u533f\u540d\u6784\u9020\u5668\uff0c\u800c\u533f\u540d\u6784\u9020\u5668\u5b9e\u9645\u4e0a\u662f\u4e00\u4e2a\u51fd\u6570\uff0c\u5728Haskell\u4e2d\u5e76\u4e0d\u80fd\u6253\u5370\u4e00\u4e2a\u51fd\u6570"
     ]
    },
    {
     "cell_type": "code",
     "collapsed": false,
     "input": [],
     "language": "python",
     "metadata": {
      "hidden": false
     },
     "outputs": []
    }
   ],
   "metadata": {}
  }
 ]
}